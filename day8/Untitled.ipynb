{
 "cells": [
  {
   "cell_type": "code",
   "execution_count": 166,
   "metadata": {},
   "outputs": [
    {
     "name": "stdout",
     "output_type": "stream",
     "text": [
      "part 1: 1816\n",
      "part 2: 383520\n"
     ]
    }
   ],
   "source": [
    "import numpy as np\n",
    "\n",
    "with open('input.txt') as f:\n",
    "    content = f.read().splitlines()\n",
    "    \n",
    "mappa = np.array([list(t) for t in content]).astype(int)\n",
    "truth_map = np.zeros(mappa.shape).astype(bool)\n",
    "max_v = []\n",
    "for a in range(mappa.shape[0]):\n",
    "    for b in range(mappa.shape[1]):\n",
    "        mappa1 = ~(mappa < mappa[a,b])\n",
    "        c1 = (~(mappa[a,b+1:] < mappa[a,b]))\n",
    "        c2 = (~(np.flip(mappa[a,:b]) < mappa[a,b]))\n",
    "        c3 = (~(mappa[a+1:,b] < mappa[a,b]))\n",
    "        c4 = (~(np.flip(mappa[:a,b]) < mappa[a,b]))\n",
    "        d1 = 0 if len(c1) == 0 else (len(c1) if ((c1.argmax() == 0) and c1.sum()==0) else (c1.argmax() +1))\n",
    "        d2 = 0 if len(c2) == 0 else (len(c2) if ((c2.argmax() == 0) and c2.sum()==0) else (c2.argmax() +1))\n",
    "        d3 = 0 if len(c3) == 0 else (len(c3) if ((c3.argmax() == 0) and c3.sum()==0) else (c3.argmax() +1))\n",
    "        d4 = 0 if len(c4) == 0 else (len(c4) if ((c4.argmax() == 0) and c4.sum()==0) else (c4.argmax() +1))\n",
    "        max_v.append(d1*d2*d3*d4)\n",
    "        truth_map[a,b] = (~c1).all() or (~c2).all() or (~c3).all() or (~c4).all() or truth_map[a,b]\n",
    "        \n",
    "print(f'part 1: {truth_map.sum()}')\n",
    "print(f'part 2: {max(max_v)}')"
   ]
  }
 ],
 "metadata": {
  "kernelspec": {
   "display_name": "Python 3",
   "language": "python",
   "name": "python3"
  },
  "language_info": {
   "codemirror_mode": {
    "name": "ipython",
    "version": 3
   },
   "file_extension": ".py",
   "mimetype": "text/x-python",
   "name": "python",
   "nbconvert_exporter": "python",
   "pygments_lexer": "ipython3",
   "version": "3.8.5"
  }
 },
 "nbformat": 4,
 "nbformat_minor": 4
}
