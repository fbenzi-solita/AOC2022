{
 "cells": [
  {
   "cell_type": "code",
   "execution_count": 3,
   "metadata": {},
   "outputs": [
    {
     "name": "stdout",
     "output_type": "stream",
     "text": [
      "part 1: 1816\n",
      "part 2: 383520\n"
     ]
    }
   ],
   "source": [
    "import numpy as np\n",
    "\n",
    "with open('input.txt') as f:\n",
    "    content = f.read().splitlines()\n",
    "    \n",
    "mappa = np.array([list(t) for t in content]).astype(int)\n",
    "tt = trees = 0\n",
    "\n",
    "for a in range(1,mappa.shape[0]-1):\n",
    "    for b in range(1,mappa.shape[1]-1):\n",
    "        c1 = (~(mappa[a,b+1:] < mappa[a,b]))\n",
    "        c2 = (~(np.flip(mappa[a,:b]) < mappa[a,b]))\n",
    "        c3 = (~(mappa[a+1:,b] < mappa[a,b]))\n",
    "        c4 = (~(np.flip(mappa[:a,b]) < mappa[a,b]))\n",
    "        d1 = (len(c1) if ((c1.argmax() == 0) and c1.sum()==0) else (c1.argmax() +1))\n",
    "        d2 = (len(c2) if ((c2.argmax() == 0) and c2.sum()==0) else (c2.argmax() +1))\n",
    "        d3 = (len(c3) if ((c3.argmax() == 0) and c3.sum()==0) else (c3.argmax() +1))\n",
    "        d4 = (len(c4) if ((c4.argmax() == 0) and c4.sum()==0) else (c4.argmax() +1))\n",
    "\n",
    "        tt = max(tt, d1*d2*d3*d4)\n",
    "        trees += ((~c1).all() or (~c2).all() or (~c3).all() or (~c4).all()).astype(int)\n",
    "        \n",
    "print(f'part 1: {trees + 4*(mappa.shape[0]-1)}')\n",
    "print(f'part 2: {tt}')"
   ]
  }
 ],
 "metadata": {
  "kernelspec": {
   "display_name": "Python 3",
   "language": "python",
   "name": "python3"
  },
  "language_info": {
   "codemirror_mode": {
    "name": "ipython",
    "version": 3
   },
   "file_extension": ".py",
   "mimetype": "text/x-python",
   "name": "python",
   "nbconvert_exporter": "python",
   "pygments_lexer": "ipython3",
   "version": "3.8.5"
  }
 },
 "nbformat": 4,
 "nbformat_minor": 4
}
