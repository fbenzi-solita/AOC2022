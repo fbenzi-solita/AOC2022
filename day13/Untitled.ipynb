{
 "cells": [
  {
   "cell_type": "code",
   "execution_count": 228,
   "metadata": {},
   "outputs": [
    {
     "name": "stdout",
     "output_type": "stream",
     "text": [
      "Part 1: 5208\n",
      "Part 2: 25792\n"
     ]
    }
   ],
   "source": [
    "with open('input.txt') as f:\n",
    "    content = f.read()\n",
    "\n",
    "content = [list(map(eval, ta)) for ta in (t.split('\\n') for t in content.split('\\n\\n'))]\n",
    "\n",
    "def compare_input(left, right):\n",
    "    if isinstance(left, int) and isinstance(right, int):\n",
    "        return left - right\n",
    "    elif isinstance(left, int) and isinstance(right, list):\n",
    "        return compare_input([left], right)\n",
    "    elif isinstance(left, list) and isinstance(right, int):\n",
    "        return compare_input(left, [right])\n",
    "    elif isinstance(left, list) and isinstance(right, list):\n",
    "        for e1, e2 in zip(left,right):\n",
    "            res = compare_input(e1, e2)\n",
    "            if res:\n",
    "                return res\n",
    "        return len(left) - len(right)\n",
    "    else:\n",
    "        raise TypeError(f'wtf? {type(left),type(right)}')\n",
    "    \n",
    "\n",
    "\n",
    "indexes = 0\n",
    "vals = []\n",
    "for i, a in enumerate(content):\n",
    "    val = compare_input(a[0],a[1])\n",
    "    vals.append(val)\n",
    "    #print(i,a, val)\n",
    "    if val < 0:\n",
    "        indexes += i+1\n",
    "        \n",
    "print(f'Part 1: {indexes}')\n",
    "\n",
    "unwrapped = [c[0] for c in content] + [c[1] for c in content]\n",
    "a1 = 1\n",
    "a2 = 2\n",
    "for i, a in enumerate(unwrapped):\n",
    "    val2 = compare_input([[2]], a)\n",
    "    val6 = compare_input([[6]], a)\n",
    "    if val2 > 0:\n",
    "        a1 += 1\n",
    "    if val6 > 0:\n",
    "        a2 += 1\n",
    "        \n",
    "print(f'Part 2: {a1*a2}')"
   ]
  }
 ],
 "metadata": {
  "kernelspec": {
   "display_name": "Python 3",
   "language": "python",
   "name": "python3"
  },
  "language_info": {
   "codemirror_mode": {
    "name": "ipython",
    "version": 3
   },
   "file_extension": ".py",
   "mimetype": "text/x-python",
   "name": "python",
   "nbconvert_exporter": "python",
   "pygments_lexer": "ipython3",
   "version": "3.8.5"
  }
 },
 "nbformat": 4,
 "nbformat_minor": 4
}
