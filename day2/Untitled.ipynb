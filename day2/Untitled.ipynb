{
 "cells": [
  {
   "cell_type": "code",
   "execution_count": 8,
   "metadata": {},
   "outputs": [
    {
     "name": "stdout",
     "output_type": "stream",
     "text": [
      "Answer to the first question: 9651\n",
      "Answer to the second question: 10560\n"
     ]
    }
   ],
   "source": [
    "import pandas as pd\n",
    "\n",
    "def is_winning_1(row):\n",
    "    \n",
    "    wins = ['AY','BZ','CX']\n",
    "    draws = ['AX','BY','CZ']\n",
    "    if row.opponent + row.me in wins:\n",
    "        return 6\n",
    "    elif row.opponent + row.me in draws:\n",
    "        return 3\n",
    "    else:\n",
    "        return 0\n",
    "    \n",
    "def calc_2(row):\n",
    "    \n",
    "    wins = {'A':2,'B':3,'C':1}\n",
    "    draws = {'A':1,'B':2,'C':3}\n",
    "    losses = {'A':3,'B':1,'C':2}\n",
    "    if row.me == 'X':\n",
    "        return losses.get(row.opponent)\n",
    "    elif row.me == 'Y':\n",
    "        return draws.get(row.opponent)\n",
    "    else:\n",
    "        return wins.get(row.opponent)\n",
    "    \n",
    "df = pd.read_csv('input.txt', sep=' ', header=None, names=['opponent', 'me'])\n",
    "\n",
    "df.loc[:,'points_1'] = df.me.rank(method='dense').astype(int) + df.apply(is_winning_1,axis=1)\n",
    "df.loc[:,'points_2'] = (df.me.rank(method='dense').astype(int) -1)*3 + df.apply(calc_2,axis=1)\n",
    "\n",
    "print(f'Answer to the first question: {df.points_1.sum()}')\n",
    "print(f'Answer to the second question: {df.points_2.sum()}')\n"
   ]
  }
 ],
 "metadata": {
  "kernelspec": {
   "display_name": "Python 3",
   "language": "python",
   "name": "python3"
  },
  "language_info": {
   "codemirror_mode": {
    "name": "ipython",
    "version": 3
   },
   "file_extension": ".py",
   "mimetype": "text/x-python",
   "name": "python",
   "nbconvert_exporter": "python",
   "pygments_lexer": "ipython3",
   "version": "3.8.5"
  }
 },
 "nbformat": 4,
 "nbformat_minor": 4
}
