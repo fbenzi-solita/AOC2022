{
 "cells": [
  {
   "cell_type": "code",
   "execution_count": 2,
   "metadata": {},
   "outputs": [
    {
     "name": "stdout",
     "output_type": "stream",
     "text": [
      "Part 1: 6425133\n",
      "10996191429555\n",
      "Part 2: None\n"
     ]
    }
   ],
   "source": [
    "class Sensor:\n",
    "    def __init__(self, row):\n",
    "        self.x = int(row.split('=')[1].split(',')[0])\n",
    "        self.y = int(row.split('=')[2].split(':')[0])\n",
    "        self.beaconx = int(row.split('=')[-2].split(',')[0])\n",
    "        self.beacony = int(row.split('=')[-1])\n",
    "        self.distance = abs(self.x - self.beaconx) + abs(self.y - self.beacony)\n",
    "    \n",
    "    def positions(self, pos):\n",
    "        diff = abs(self.y - pos)\n",
    "        value = diff - self.distance\n",
    "        if value < 0:\n",
    "            a1 = self.x + value\n",
    "            a2 = self.x - value\n",
    "            return (a1, a2)\n",
    "        else:\n",
    "            return\n",
    "        \n",
    "    def distances(self, pos):\n",
    "        numbers = set()\n",
    "        if self.positions(pos):\n",
    "            a1, a2 = self.positions(pos)\n",
    "            for p in range(a1,a2):\n",
    "                numbers.add((p,pos))\n",
    "        return numbers\n",
    "    \n",
    "def find_hole(s, maxv):\n",
    "    for k in range(maxv):\n",
    "        poss = set()\n",
    "        for sensor in s:\n",
    "            a = sensor.positions(k)\n",
    "            if a:\n",
    "                poss.add(a)\n",
    "        poss = sorted(poss)\n",
    "\n",
    "        minn = poss[0][0]\n",
    "        maxn = poss[0][1]\n",
    "        for i in range(1,len(poss)):\n",
    "            if poss[i][0] > minn and poss[i][1] < maxn:\n",
    "                continue\n",
    "            else:\n",
    "                if 0 < poss[i][0] < maxv:\n",
    "                    if poss[i][0] - maxn > 1:\n",
    "                        return(k,(poss[i][0] + maxn)//2)\n",
    "                minn = min(minn,poss[i][0])\n",
    "                maxn = max(maxn,poss[i][1])\n",
    "    return -1\n",
    "\n",
    "with open('input.txt') as f:\n",
    "    content = f.read().split('\\n')\n",
    "    \n",
    "    \n",
    "sensors = [Sensor(r) for r in content]\n",
    "row_distance = 2000000\n",
    "max_distress_distance = 4000000\n",
    "\n",
    "all_distances = set()\n",
    "for i, s in enumerate(sensors):\n",
    "    all_distances.update(s.distances(row_distance))\n",
    "    \n",
    "print(f'Part 1: {len(all_distances)}')\n",
    "\n",
    "a = find_hole(sensors, max_distress_distance)\n",
    "\n",
    "print(f'Part 2: {print(max_distress_distance*a[1] + a[0])}')"
   ]
  }
 ],
 "metadata": {
  "kernelspec": {
   "display_name": "Python 3",
   "language": "python",
   "name": "python3"
  },
  "language_info": {
   "codemirror_mode": {
    "name": "ipython",
    "version": 3
   },
   "file_extension": ".py",
   "mimetype": "text/x-python",
   "name": "python",
   "nbconvert_exporter": "python",
   "pygments_lexer": "ipython3",
   "version": "3.8.5"
  }
 },
 "nbformat": 4,
 "nbformat_minor": 4
}
