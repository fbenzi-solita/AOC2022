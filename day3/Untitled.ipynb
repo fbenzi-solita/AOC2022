{
 "cells": [
  {
   "cell_type": "code",
   "execution_count": 1,
   "metadata": {},
   "outputs": [
    {
     "name": "stdout",
     "output_type": "stream",
     "text": [
      "Part 1: 7980\n",
      "Part 2: 2881\n"
     ]
    }
   ],
   "source": [
    "with open('input.txt') as f:\n",
    "    lines = f.readlines()\n",
    "total_sum = 0\n",
    "for line in lines:\n",
    "    s = line.strip('\\n')\n",
    "    ch = list(set(s[:len(s)//2]).intersection(set(s[len(s)//2:])))[0]\n",
    "    partial_sum = ord(ch) - 38 if ch.isupper() else ord(ch) - 96\n",
    "    total_sum += partial_sum\n",
    "print(f'Part 1: {total_sum}')\n",
    "total_sum = 0\n",
    "for i in range(int(len(lines)/3)):\n",
    "    l1 = lines[i*3].strip('\\n')\n",
    "    l2 = lines[i*3+1].strip('\\n')\n",
    "    l3 = lines[i*3+2].strip('\\n')\n",
    "    ch = list(set(l1).intersection(set(l2),set(l3)))[0]\n",
    "    partial_sum = ord(ch) - 38 if ch.isupper() else ord(ch) - 96\n",
    "    total_sum += partial_sum\n",
    "print(f'Part 2: {total_sum}')"
   ]
  }
 ],
 "metadata": {
  "kernelspec": {
   "display_name": "Python 3",
   "language": "python",
   "name": "python3"
  },
  "language_info": {
   "codemirror_mode": {
    "name": "ipython",
    "version": 3
   },
   "file_extension": ".py",
   "mimetype": "text/x-python",
   "name": "python",
   "nbconvert_exporter": "python",
   "pygments_lexer": "ipython3",
   "version": "3.8.5"
  }
 },
 "nbformat": 4,
 "nbformat_minor": 4
}
