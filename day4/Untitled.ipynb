{
 "cells": [
  {
   "cell_type": "code",
   "execution_count": 1,
   "metadata": {},
   "outputs": [],
   "source": [
    "import pandas as pd\n",
    "\n",
    "df = pd.read_csv('input.txt', sep=',|-', header=None, engine='python', dtype=int, names=['p11','p12','p21','p22'])\n",
    "part1 = (((df.p11 >= df.p21) & (df.p12 <= df.p22) ) | ((df.p21 >= df.p11) & (df.p22 <= df.p12))).sum()\n",
    "part2 = (((df.p21 >= df.p11) & (df.p21 <= df.p12)) | ((df.p11 >= df.p21) & (df.p11 <= df.p22))).sum()"
   ]
  },
  {
   "cell_type": "code",
   "execution_count": 2,
   "metadata": {},
   "outputs": [
    {
     "name": "stdout",
     "output_type": "stream",
     "text": [
      "528 881\n"
     ]
    }
   ],
   "source": [
    "print(part1, part2)"
   ]
  }
 ],
 "metadata": {
  "kernelspec": {
   "display_name": "Python 3",
   "language": "python",
   "name": "python3"
  },
  "language_info": {
   "codemirror_mode": {
    "name": "ipython",
    "version": 3
   },
   "file_extension": ".py",
   "mimetype": "text/x-python",
   "name": "python",
   "nbconvert_exporter": "python",
   "pygments_lexer": "ipython3",
   "version": "3.8.5"
  }
 },
 "nbformat": 4,
 "nbformat_minor": 4
}
