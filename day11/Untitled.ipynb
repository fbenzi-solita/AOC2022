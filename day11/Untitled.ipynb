{
 "cells": [
  {
   "cell_type": "code",
   "execution_count": 60,
   "metadata": {},
   "outputs": [
    {
     "name": "stdout",
     "output_type": "stream",
     "text": [
      "part 1: 117640\n",
      "part 2: 30616425600\n"
     ]
    }
   ],
   "source": [
    "import numpy as np\n",
    "\n",
    "def parse_monkey(monkey_description, relief=3):\n",
    "    monkey_description = monkey_description.split('\\n')\n",
    "    m_id = [int(d) for d in monkey_description[0] if d.isdigit()][0]\n",
    "    items = [int(i) for i in monkey_description[1].split(':')[1].strip().split(',')]\n",
    "    op = monkey_description[2].split(':')[1].strip().split('=')[1]\n",
    "    condition = [int(monkey_description[i].strip().split()[-1]) for i in range(3,6)]\n",
    "    return Monkey(m_id, items, op, condition,relief)\n",
    "\n",
    "\n",
    "\n",
    "class Monkey:\n",
    "    def __init__(self,\n",
    "                 monkey_id:int,\n",
    "                 items:list,\n",
    "                 operation_string:str,\n",
    "                 condition:list,\n",
    "                 relief:int=3):\n",
    "        self.monkey_id = monkey_id\n",
    "        self.items = items\n",
    "        self.operation_string = operation_string\n",
    "        self.condition = condition\n",
    "        self.relief = relief\n",
    "        self.n_inspections = 0\n",
    "        \n",
    "    @staticmethod\n",
    "    def send_object(m_list, fr, to):\n",
    "        obj = m_list[fr].items.pop(0)\n",
    "        m_list[to].items.append(obj)    \n",
    "    \n",
    "        \n",
    "    def send_objects(self, monkey_list):\n",
    "        myprod = np.prod(np.array([a.condition[0] for a in monkeys]))\n",
    "        while len(self.items) > 0:\n",
    "            old = self.items[0]\n",
    "\n",
    "            self.items[0] = eval(self.operation_string) // self.relief\n",
    "            mod = self.items[0] % self.condition[0]\n",
    "            #self.items[0] = remainder\n",
    "            if mod == 0:\n",
    "                send_to = self.condition[1]\n",
    "            else:\n",
    "                send_to = self.condition[2]\n",
    "            self.items[0] = self.items[0] % myprod\n",
    "            self.send_object(monkey_list, self.monkey_id, send_to)\n",
    "            self.n_inspections += 1\n",
    "\n",
    "with open('input.txt') as f:\n",
    "    content = f.read()\n",
    "    \n",
    "monkeys = [parse_monkey(t, 3) for t in content.split('\\n\\n')]\n",
    "for i in range(20):\n",
    "    for monkey in monkeys:\n",
    "        monkey.send_objects(monkeys)\n",
    "        \n",
    "n_insp = sorted([monkey.n_inspections for monkey in monkeys], reverse=True)\n",
    "print(f'part 1: {n_insp[0]*n_insp[1]}')\n",
    "\n",
    "monkeys = [parse_monkey(t, 1) for t in content.split('\\n\\n')]\n",
    "for i in range(10000):\n",
    "    for monkey in monkeys:\n",
    "        monkey.send_objects(monkeys)\n",
    "        \n",
    "n_insp = sorted([monkey.n_inspections for monkey in monkeys], reverse=True)\n",
    "print(f'part 2: {n_insp[0]*n_insp[1]}')\n",
    "        "
   ]
  }
 ],
 "metadata": {
  "kernelspec": {
   "display_name": "Python 3",
   "language": "python",
   "name": "python3"
  },
  "language_info": {
   "codemirror_mode": {
    "name": "ipython",
    "version": 3
   },
   "file_extension": ".py",
   "mimetype": "text/x-python",
   "name": "python",
   "nbconvert_exporter": "python",
   "pygments_lexer": "ipython3",
   "version": "3.8.5"
  }
 },
 "nbformat": 4,
 "nbformat_minor": 4
}
