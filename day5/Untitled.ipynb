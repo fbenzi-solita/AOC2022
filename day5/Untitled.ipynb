{
 "cells": [
  {
   "cell_type": "code",
   "execution_count": 9,
   "metadata": {},
   "outputs": [
    {
     "name": "stdout",
     "output_type": "stream",
     "text": [
      "First part: TGWSMRBPN\n",
      "Second part: TZLTLWRNF\n"
     ]
    }
   ],
   "source": [
    "import numpy as np\n",
    "# input parsing\n",
    "def parse_content(infile):\n",
    "    with open(infile) as f:\n",
    "        content = f.read().split('\\n\\n')\n",
    "\n",
    "    piles = []\n",
    "    for cont in content[0].split('\\n'):\n",
    "        piles.append(list(cont[1::4]))\n",
    "    piles = np.array(piles)\n",
    "    piles_dct = {}\n",
    "    for a in range(piles.shape[1]):\n",
    "         piles_dct[int(piles[-1,a])] = list(piles[:-1,a][piles[:-1,a] != ' '])\n",
    "\n",
    "    commands = []\n",
    "    for command in content[1].split('\\n'):\n",
    "        commands.append([int(s) for s in command.split() if s.isdigit()])\n",
    "        \n",
    "    return piles_dct, commands\n",
    "    \n",
    "# Part 1 \n",
    "piles_dct, commands = parse_content('input.txt')    \n",
    "\n",
    "for command in commands:\n",
    "    for i in range(command[0]):\n",
    "        tmp = piles_dct.get(command[1]).pop(0)\n",
    "        piles_dct.get(command[2]).insert(0,tmp)\n",
    "        \n",
    "msg = ''\n",
    "for key in piles_dct.keys():\n",
    "    msg += piles_dct.get(key)[0]\n",
    "print(f'First part: {msg}')\n",
    "    \n",
    "# Part 2\n",
    "piles_dct, commands = parse_content('input.txt')       \n",
    "\n",
    "for command in commands:\n",
    "    tmp =[]\n",
    "    for i in range(command[0]):\n",
    "        pile = piles_dct.get(command[1])\n",
    "        elm = pile.pop(0)\n",
    "        tmp.append(elm)\n",
    "    piles_dct[command[2]] = tmp + piles_dct.get(command[2])\n",
    "    \n",
    "msg = ''\n",
    "for key in piles_dct.keys():\n",
    "    msg += piles_dct.get(key)[0]\n",
    "    \n",
    "print(f'Second part: {msg}')"
   ]
  }
 ],
 "metadata": {
  "kernelspec": {
   "display_name": "Python 3",
   "language": "python",
   "name": "python3"
  },
  "language_info": {
   "codemirror_mode": {
    "name": "ipython",
    "version": 3
   },
   "file_extension": ".py",
   "mimetype": "text/x-python",
   "name": "python",
   "nbconvert_exporter": "python",
   "pygments_lexer": "ipython3",
   "version": "3.8.5"
  }
 },
 "nbformat": 4,
 "nbformat_minor": 4
}
