{
 "cells": [
  {
   "cell_type": "code",
   "execution_count": 687,
   "metadata": {},
   "outputs": [
    {
     "name": "stdout",
     "output_type": "stream",
     "text": [
      "Part 1: 715\n",
      "Part 2: 25248\n"
     ]
    }
   ],
   "source": [
    "import numpy as np\n",
    "\n",
    "def render_map(stuff):\n",
    "    tsp = [t.split('->') for t in stuff.split('\\n')]\n",
    "    outp = []\n",
    "    maxx = 0\n",
    "    minx = 9999\n",
    "    maxy = 0\n",
    "    miny = 0\n",
    "    for a in tsp:\n",
    "        outp1 = []\n",
    "        for b in a:\n",
    "            c = (int(b.split(',')[0]), int(b.split(',')[1]))\n",
    "            outp1.append(c)\n",
    "            maxx = max(maxx,c[0])\n",
    "            minx = min(minx,c[0])\n",
    "            maxy = max(maxy,c[1])\n",
    "\n",
    "        outp.append(outp1)\n",
    "\n",
    "    dx = (maxx - minx) + 1\n",
    "    dy = (maxy - miny) + 1\n",
    "    mappa = np.array([list(dx*'.') for i in range(dy)])\n",
    "    for command in outp:\n",
    "        for i in range(len(command)-1):\n",
    "            y1 = command[i][1] - miny + 1\n",
    "            y2 = command[i+1][1] - miny + 1\n",
    "            x1 = command[i][0] - minx\n",
    "            x2 = command[i+1][0] - minx\n",
    "            mappa[min(y1,y2)-1:max(y1,y2), min(x1,x2):max(x1,x2)+1] = '#'\n",
    "    return (minx,maxx,miny,maxy), mappa\n",
    "\n",
    "def drop_sand(input_map, position):\n",
    "    i = position[1]\n",
    "    while True:\n",
    "        #print(i, input_map.shape, position)\n",
    "        if i < input_map.shape[0] - 1 and (0 < position[0] < input_map.shape[1] -1):\n",
    "            if input_map[i,position[0]] == '.':\n",
    "                if input_map[i + 1,position[0]] == '.':\n",
    "                    i += 1\n",
    "                    continue \n",
    "                elif input_map[i + 1,position[0]] != '.' and input_map[i + 1,position[0] - 1] == '.':\n",
    "                    return drop_sand(input_map, (position[0] - 1,i+1))\n",
    "                elif input_map[i + 1,position[0]] != '.' and input_map[i + 1,position[0] + 1] == '.':\n",
    "                    return drop_sand(input_map, (position[0] + 1, i+1))\n",
    "                else:\n",
    "                    input_map[i,position[0]] = 'o'\n",
    "                    break\n",
    "        else:\n",
    "            raise ValueError(f'out of bonds. {i,position[0]}')\n",
    "    return input_map\n",
    "\n",
    "with open('input.txt') as f:\n",
    "    content = f.read()\n",
    "bounds, mappa = render_map(content)\n",
    "counter = 0\n",
    "try:\n",
    "    while True:\n",
    "        o = drop_sand(mappa, (500 - bounds[0],0))\n",
    "        counter += 1\n",
    "except ValueError:\n",
    "    print(f'Part 1: {counter}')\n",
    "\n",
    "bounds, mappa = render_map(content)\n",
    "addon = np.array([list(500*'.') for i in range(mappa.shape[0])])\n",
    "res = np.concatenate((addon,mappa, addon),axis=1)\n",
    "full = np.concatenate((res,np.array(list(res.shape[1]*'.')).reshape(1,-1),np.array(list(res.shape[1]*'#')).reshape(1,-1)),axis=0)\n",
    "#counter = 0\n",
    "while True:\n",
    "    o = drop_sand(full, (1000 - bounds[0],0))\n",
    "    if full[(0,1000 - bounds[0])] == 'o':\n",
    "        res = len(full[full=='o'])\n",
    "        print(f'Part 2: {res}')\n",
    "        break"
   ]
  }
 ],
 "metadata": {
  "kernelspec": {
   "display_name": "Python 3",
   "language": "python",
   "name": "python3"
  },
  "language_info": {
   "codemirror_mode": {
    "name": "ipython",
    "version": 3
   },
   "file_extension": ".py",
   "mimetype": "text/x-python",
   "name": "python",
   "nbconvert_exporter": "python",
   "pygments_lexer": "ipython3",
   "version": "3.8.5"
  }
 },
 "nbformat": 4,
 "nbformat_minor": 4
}
