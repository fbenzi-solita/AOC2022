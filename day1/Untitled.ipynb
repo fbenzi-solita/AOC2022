{
 "cells": [
  {
   "cell_type": "code",
   "execution_count": 47,
   "metadata": {},
   "outputs": [],
   "source": [
    "import numpy as np\n",
    "import heapq\n",
    "import pandas as pd\n",
    "from io import StringIO"
   ]
  },
  {
   "cell_type": "code",
   "execution_count": 3,
   "metadata": {},
   "outputs": [
    {
     "name": "stdout",
     "output_type": "stream",
     "text": [
      "197291\n"
     ]
    }
   ],
   "source": [
    "elfs = []\n",
    "heapq.heapify(elfs)\n",
    "with open('input.txt') as infile:\n",
    "    for elf in (infile.read()).split('\\n\\n'):\n",
    "        heapq.heappush(elfs,-np.array(elf.split('\\n')).astype(int).sum())\n",
    "calories = 0\n",
    "for i in range(3):\n",
    "    calories += heapq.heappop(elfs)\n",
    "    \n",
    "print(-calories)"
   ]
  },
  {
   "cell_type": "code",
   "execution_count": 1,
   "metadata": {},
   "outputs": [
    {
     "name": "stdout",
     "output_type": "stream",
     "text": [
      "Top elf: [67027]. Sum of top 3 elfs: [197291]\n"
     ]
    }
   ],
   "source": [
    "import pandas as pd\n",
    "\n",
    "with open('input.txt', 'r') as f:\n",
    "    df = pd.DataFrame(f.read().split('\\n\\n'), columns=['elfs'])\n",
    "df.elfs = df.elfs.apply(lambda x: x.split('\\n'))\n",
    "dfs = df.explode('elfs').astype(int).reset_index().groupby('index').sum().sort_values(by='elfs', ascending=False)\n",
    "\n",
    "top3 = dfs.head(3).sum()\n",
    "top1 = dfs.head(1).sum()\n",
    "print(f'Top elf: {top1.values}. Sum of top 3 elfs: {top3.values}')"
   ]
  }
 ],
 "metadata": {
  "kernelspec": {
   "display_name": "Python 3",
   "language": "python",
   "name": "python3"
  },
  "language_info": {
   "codemirror_mode": {
    "name": "ipython",
    "version": 3
   },
   "file_extension": ".py",
   "mimetype": "text/x-python",
   "name": "python",
   "nbconvert_exporter": "python",
   "pygments_lexer": "ipython3",
   "version": "3.8.5"
  }
 },
 "nbformat": 4,
 "nbformat_minor": 4
}
