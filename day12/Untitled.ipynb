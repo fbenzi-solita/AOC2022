{
 "cells": [
  {
   "cell_type": "code",
   "execution_count": 2,
   "metadata": {},
   "outputs": [
    {
     "name": "stdout",
     "output_type": "stream",
     "text": [
      "Part 1:383\n",
      "Part 2: 377\n"
     ]
    }
   ],
   "source": [
    "import numpy as np\n",
    "from collections import deque\n",
    "\n",
    "def bfs_christmas(a, start,end):\n",
    "\n",
    "    moves = [(-1,0),(1,0),(0,-1),(0,1)]\n",
    "    vis = np.zeros(a.shape).astype(bool)\n",
    "    dist = np.zeros(a.shape)\n",
    "    q = deque()\n",
    "    q.append(start)\n",
    "\n",
    "    vis[start] = True\n",
    "    dist[start] = 0\n",
    "\n",
    "    while len(q):\n",
    "        x,y = q.popleft()\n",
    "        for dx, dy in moves:\n",
    "            new_x = x + dx\n",
    "            new_y = y + dy\n",
    "            if new_x >= 0 and new_x < a.shape[0] and new_y >= 0 and new_y < a.shape[1] and a[new_x,new_y] - a[x,y] <= 1:\n",
    "                if not vis[new_x,new_y]:\n",
    "                    dist[new_x,new_y] = dist[x,y]+1\n",
    "                    vis[new_x,new_y] = True\n",
    "                    q.append((new_x,new_y))\n",
    "\n",
    "    if not vis[end]:\n",
    "        return 999999999\n",
    "    else:\n",
    "        return dist[end].astype(int)\n",
    "\n",
    "\n",
    "with open('input.txt') as f:\n",
    "    content = f.read()    \n",
    "    \n",
    "a = np.array([list(t) for t in content.split('\\n')])\n",
    "start_p1 = np.where(a=='S')\n",
    "end = np.where(a=='E')\n",
    "\n",
    "a_x = np.where(a=='a')[0]\n",
    "a_y = np.where(a=='a')[1]\n",
    "\n",
    "a[start_p1] = 'a'\n",
    "a[end] = 'z'\n",
    "f = lambda x: ord(x) - ord('a')\n",
    "f = np.vectorize(f)\n",
    "a = f(a)\n",
    "\n",
    "print(f'Part 1:{bfs_christmas(a, start_p1, end)[0]}')\n",
    "\n",
    "distances = []\n",
    "for start in zip(a_x,a_y):\n",
    "    distances.append(bfs_christmas(a,start,end))\n",
    "    \n",
    "print(f'Part 2: {min(distances)[0]}')"
   ]
  }
 ],
 "metadata": {
  "kernelspec": {
   "display_name": "Python 3",
   "language": "python",
   "name": "python3"
  },
  "language_info": {
   "codemirror_mode": {
    "name": "ipython",
    "version": 3
   },
   "file_extension": ".py",
   "mimetype": "text/x-python",
   "name": "python",
   "nbconvert_exporter": "python",
   "pygments_lexer": "ipython3",
   "version": "3.8.5"
  }
 },
 "nbformat": 4,
 "nbformat_minor": 4
}
