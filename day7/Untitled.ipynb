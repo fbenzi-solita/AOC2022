{
 "cells": [
  {
   "cell_type": "code",
   "execution_count": 2,
   "metadata": {},
   "outputs": [
    {
     "name": "stdout",
     "output_type": "stream",
     "text": [
      "First part: 1315285\n",
      "Second part: 9847279\n"
     ]
    }
   ],
   "source": [
    "from collections import deque\n",
    "import numpy as np\n",
    "from copy import deepcopy\n",
    "\n",
    "with open('input.txt') as f:\n",
    "    content = f.read().replace('\\n',' ').split('$')\n",
    "\n",
    "directories = {}\n",
    "current_dir = deque()\n",
    "for inp in content:\n",
    "    if inp.strip().startswith('cd') and not inp.strip().endswith('..'):  \n",
    "        current_dir.append(inp.split()[-1])\n",
    "        \n",
    "        directories['-'.join(list(current_dir))] = 0\n",
    "    elif inp.strip().startswith('cd') and inp.strip().endswith('..'):\n",
    "        current_dir.pop()\n",
    "    elif inp.strip().startswith('ls'):\n",
    "        tsum = 0\n",
    "        tinp = inp.strip().split()[1:]\n",
    "        temp_dir = deepcopy(current_dir)\n",
    "        for i in range(len(tinp)//2):\n",
    "            if tinp[2*i].isdigit():\n",
    "                tsum += int(tinp[2*i])\n",
    "        while len(temp_dir) > 0:\n",
    "            directories['-'.join(list(temp_dir))] += tsum\n",
    "            temp_dir.pop()\n",
    "            \n",
    "all_sizes = np.array(list(directories.values()))\n",
    "print(f'First part: {all_sizes[all_sizes <= 100000].sum()}')\n",
    "\n",
    "free_space = 70000000 - directories['/']\n",
    "min_space = abs(free_space - 30000000)\n",
    "print(f'Second part: {all_sizes[all_sizes > min_space].min()}')\n"
   ]
  }
 ],
 "metadata": {
  "kernelspec": {
   "display_name": "Python 3",
   "language": "python",
   "name": "python3"
  },
  "language_info": {
   "codemirror_mode": {
    "name": "ipython",
    "version": 3
   },
   "file_extension": ".py",
   "mimetype": "text/x-python",
   "name": "python",
   "nbconvert_exporter": "python",
   "pygments_lexer": "ipython3",
   "version": "3.8.5"
  }
 },
 "nbformat": 4,
 "nbformat_minor": 4
}
