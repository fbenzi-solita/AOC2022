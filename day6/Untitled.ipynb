{
 "cells": [
  {
   "cell_type": "code",
   "execution_count": 13,
   "metadata": {},
   "outputs": [
    {
     "name": "stdout",
     "output_type": "stream",
     "text": [
      "First part: 1480\n",
      "Second part: 2746\n"
     ]
    }
   ],
   "source": [
    "from collections import deque\n",
    "\n",
    "with open(\"input.txt\") as f:\n",
    "    message = f.read()\n",
    "\n",
    "def get_message(inlist, n_char):\n",
    "    w0 = deque(inlist[:n_char])\n",
    "    for k in range(len(inlist)-n_char):\n",
    "        if len(set(w0)) == n_char:\n",
    "            return k + n_char\n",
    "        w0.popleft()\n",
    "        w0.append(inlist[k+n_char])\n",
    "    \n",
    "print(f'First part: {get_message(message, 4)}')\n",
    "print(f'Second part: {get_message(message, 14)}')"
   ]
  }
 ],
 "metadata": {
  "kernelspec": {
   "display_name": "Python 3",
   "language": "python",
   "name": "python3"
  },
  "language_info": {
   "codemirror_mode": {
    "name": "ipython",
    "version": 3
   },
   "file_extension": ".py",
   "mimetype": "text/x-python",
   "name": "python",
   "nbconvert_exporter": "python",
   "pygments_lexer": "ipython3",
   "version": "3.8.5"
  }
 },
 "nbformat": 4,
 "nbformat_minor": 4
}
