{
 "cells": [
  {
   "cell_type": "code",
   "execution_count": 395,
   "metadata": {},
   "outputs": [
    {
     "name": "stdout",
     "output_type": "stream",
     "text": [
      "Part 1: 6332\n",
      "Part 2: 2511\n"
     ]
    }
   ],
   "source": [
    "import numpy as np\n",
    "\n",
    "with open('input.txt') as f:\n",
    "    content = f.read().splitlines()\n",
    "movements = np.array([t.split() for t in content])\n",
    "\n",
    "def move_tail(head, tail):\n",
    "    if (abs(head[0] - tail[0]) < 2) and (abs(head[1] - tail[1]) < 2):\n",
    "        pass\n",
    "    elif (abs(head[0] - tail[0]) == 2) and (head[1] == tail[1]):\n",
    "        tail[0] += head[0] - tail[0] - (abs(head[0] - tail[0]))//(head[0] - tail[0])\n",
    "    elif (abs(head[1] - tail[1]) == 2) and (head[0] == tail[0]):\n",
    "        tail[1] += head[1] - tail[1] - (abs(head[1] - tail[1]))//(head[1] - tail[1])\n",
    "    elif (abs(head[0] - tail[0]) == 2) and (abs(head[1] - tail[1]) == 1):\n",
    "        tail[1] = head[1]\n",
    "        tail[0] += head[0] - tail[0] - (abs(head[0] - tail[0]))//(head[0] - tail[0])\n",
    "    elif (abs(head[1] - tail[1]) == 2) and (abs(head[0] - tail[0]) == 1):\n",
    "        tail[0] = head[0]\n",
    "        tail[1] += head[1] - tail[1] - (abs(head[1] - tail[1]))//(head[1] - tail[1])\n",
    "    elif (abs(head[1] - tail[1]) == 2) and (abs(head[0] - tail[0]) == 2):\n",
    "        tail[0] += head[0] - tail[0] - (abs(head[0] - tail[0]))//(head[0] - tail[0])\n",
    "        tail[1] += head[1] - tail[1] - (abs(head[1] - tail[1]))//(head[1] - tail[1])\n",
    "    else:\n",
    "        print (abs(head[1] - tail[1]), abs(head[0] - tail[0]))\n",
    "        raise ValueError('wtf?')\n",
    "    return tail\n",
    "\n",
    "def calc_movement(rope_size):\n",
    "    inp_rope = np.zeros((rope_size,2))\n",
    "    positions = set()\n",
    "    for t in movements:\n",
    "\n",
    "        temp = t[1].astype(int)\n",
    "        while temp > 0:\n",
    "            if t[0] == 'R':\n",
    "                inp_rope[0,1] += 1\n",
    "            elif t[0] == 'U':\n",
    "                inp_rope[0,0] += 1\n",
    "            if t[0] == 'L':\n",
    "                inp_rope[0,1] -= 1\n",
    "            elif t[0] == 'D':\n",
    "                inp_rope[0,0] -= 1\n",
    "            for i in range(1, inp_rope.shape[0]):\n",
    "\n",
    "                inp_rope[i] = move_tail(inp_rope[i-1], inp_rope[i])\n",
    "            positions.add(str(inp_rope[-1]))\n",
    "            temp -= 1\n",
    "    return len(positions)\n",
    "\n",
    "print(f'Part 1: {calc_movement(2)}')\n",
    "print(f'Part 2: {calc_movement(10)}')"
   ]
  }
 ],
 "metadata": {
  "kernelspec": {
   "display_name": "Python 3",
   "language": "python",
   "name": "python3"
  },
  "language_info": {
   "codemirror_mode": {
    "name": "ipython",
    "version": 3
   },
   "file_extension": ".py",
   "mimetype": "text/x-python",
   "name": "python",
   "nbconvert_exporter": "python",
   "pygments_lexer": "ipython3",
   "version": "3.8.5"
  }
 },
 "nbformat": 4,
 "nbformat_minor": 4
}
