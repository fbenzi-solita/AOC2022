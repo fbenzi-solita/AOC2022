{
 "cells": [
  {
   "cell_type": "code",
   "execution_count": 2,
   "metadata": {},
   "outputs": [
    {
     "name": "stdout",
     "output_type": "stream",
     "text": [
      "Part 1: 12460\n",
      "Part 2\n",
      "####.####.####.###..###...##..#..#.#....\n",
      "#.......#.#....#..#.#..#.#..#.#.#..#....\n",
      "###....#..###..#..#.#..#.#..#.##...#....\n",
      "#.....#...#....###..###..####.#.#..#....\n",
      "#....#....#....#....#.#..#..#.#.#..#....\n",
      "####.####.#....#....#..#.#..#.#..#.####.\n"
     ]
    }
   ],
   "source": [
    "import numpy as np\n",
    "\n",
    "\n",
    "def is_in_sequence(n, seqs):\n",
    "    if n in seqs:\n",
    "        return n\n",
    "    else:\n",
    "        return 0\n",
    "    \n",
    "def draw_crt(n, register):\n",
    "    if abs(register - n%40) <=1:\n",
    "        return '#'\n",
    "    else:\n",
    "        return '.'\n",
    "        \n",
    "def noop(seq, n, register, register_sum):\n",
    "    pixel = draw_crt(n-1, register)\n",
    "    n += 1\n",
    "    return n, register, register_sum + is_in_sequence(n,seq)*register, pixel\n",
    "\n",
    "def addx (seq, n, value_to_add, register, register_sum):\n",
    "    pixel = draw_crt(n-1, register)\n",
    "    n += 1\n",
    "    pixel += draw_crt(n-1, register)\n",
    "    register_sum = register_sum  + is_in_sequence(n,seq)*register    \n",
    "    n += 1\n",
    "    register += value_to_add\n",
    "    return n, register, register_sum + is_in_sequence(n,seq)*register, pixel\n",
    "\n",
    "with open('input.txt') as f:\n",
    "    commands = f.read().split('\\n')\n",
    "\n",
    "    \n",
    "register = 1\n",
    "seq =  range(20,221,40)\n",
    "end_sequence = 0\n",
    "n = 1\n",
    "crt = ''\n",
    "\n",
    "for command in commands:\n",
    "    if command.startswith('noop'):\n",
    "        n, register, end_sequence, pixel = noop(seq, n, register, end_sequence)\n",
    "    elif command.startswith('addx'):\n",
    "        n, register, end_sequence, pixel = addx(seq, n, int(command.split()[1]), register, end_sequence)\n",
    "\n",
    "    crt += pixel\n",
    "    \n",
    "    \n",
    "print(f'Part 1: {end_sequence}')\n",
    "\n",
    "a = (np.array(list(crt)).reshape(6,40))\n",
    "print('Part 2')\n",
    "for i in range(len(a)):\n",
    "    print(''.join(a[i]))"
   ]
  }
 ],
 "metadata": {
  "kernelspec": {
   "display_name": "Python 3",
   "language": "python",
   "name": "python3"
  },
  "language_info": {
   "codemirror_mode": {
    "name": "ipython",
    "version": 3
   },
   "file_extension": ".py",
   "mimetype": "text/x-python",
   "name": "python",
   "nbconvert_exporter": "python",
   "pygments_lexer": "ipython3",
   "version": "3.8.5"
  }
 },
 "nbformat": 4,
 "nbformat_minor": 4
}
